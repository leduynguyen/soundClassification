{
  "nbformat": 4,
  "nbformat_minor": 0,
  "metadata": {
    "colab": {
      "name": "abnormal_detection_gausian.ipynb",
      "version": "0.3.2",
      "provenance": [],
      "private_outputs": true,
      "collapsed_sections": [],
      "include_colab_link": true
    },
    "kernelspec": {
      "name": "python3",
      "display_name": "Python 3"
    }
  },
  "cells": [
    {
      "cell_type": "markdown",
      "metadata": {
        "id": "view-in-github",
        "colab_type": "text"
      },
      "source": [
        "<a href=\"https://colab.research.google.com/github/leduynguyen/soundClassification/blob/master/abnormal_detection_gausian.ipynb\" target=\"_parent\"><img src=\"https://colab.research.google.com/assets/colab-badge.svg\" alt=\"Open In Colab\"/></a>"
      ]
    },
    {
      "cell_type": "markdown",
      "metadata": {
        "id": "IwxR0D0JRnsa",
        "colab_type": "text"
      },
      "source": [
        "* Upload dataset\n",
        "* Sample data is located at: https://drive.google.com/open?id=1GTo0lrT9nioY3MnbdbI4mKX9Gso-tO6S"
      ]
    },
    {
      "cell_type": "code",
      "metadata": {
        "id": "4bVWf49wRtdQ",
        "colab_type": "code",
        "colab": {}
      },
      "source": [
        "from google.colab import files\n",
        "uploaded = files.upload()"
      ],
      "execution_count": 0,
      "outputs": []
    },
    {
      "cell_type": "markdown",
      "metadata": {
        "id": "4058UTv2Q0km",
        "colab_type": "text"
      },
      "source": [
        "* Import libraries"
      ]
    },
    {
      "cell_type": "code",
      "metadata": {
        "id": "6JZ4GpFYQ5NH",
        "colab_type": "code",
        "colab": {}
      },
      "source": [
        "import numpy as np\n",
        "import matplotlib.pyplot as plt\n",
        "from plotly.offline import iplot\n",
        "from scipy.io import loadmat"
      ],
      "execution_count": 0,
      "outputs": []
    },
    {
      "cell_type": "markdown",
      "metadata": {
        "id": "Tvf6WU8YRDWd",
        "colab_type": "text"
      },
      "source": [
        "* Initial dataset"
      ]
    },
    {
      "cell_type": "code",
      "metadata": {
        "id": "2wJZt-zsQ8iA",
        "colab_type": "code",
        "colab": {}
      },
      "source": [
        "mat = loadmat(\"sampleData.mat\")\n",
        "X = mat[\"X\"]\n",
        "Xval = mat[\"Xval\"]\n",
        "yval = mat[\"yval\"]"
      ],
      "execution_count": 0,
      "outputs": []
    },
    {
      "cell_type": "markdown",
      "metadata": {
        "id": "JrS1Tg4tR64x",
        "colab_type": "text"
      },
      "source": [
        "* Visualize the data"
      ]
    },
    {
      "cell_type": "code",
      "metadata": {
        "id": "sRoamF2wSC2A",
        "colab_type": "code",
        "colab": {}
      },
      "source": [
        "plt.scatter(X[:,0],X[:,1],marker=\"x\")\n",
        "plt.xlim(0,30)\n",
        "plt.ylim(0,30)\n",
        "plt.xlabel(\"Latency (ms)\")\n",
        "plt.ylabel(\"Throughput (mb/s)\")"
      ],
      "execution_count": 0,
      "outputs": []
    },
    {
      "cell_type": "markdown",
      "metadata": {
        "id": "GxHL4_lYSICE",
        "colab_type": "text"
      },
      "source": [
        "* To estimate parameters (mean and variance) for the Gaussian model"
      ]
    },
    {
      "cell_type": "code",
      "metadata": {
        "id": "eddBSmKRSDwe",
        "colab_type": "code",
        "colab": {}
      },
      "source": [
        "def estimateGaussian(X):\n",
        "    \"\"\"\n",
        "     This function estimates the parameters of a Gaussian distribution using \n",
        "     the data in X\n",
        "    \"\"\"\n",
        "    #compute mean\n",
        "    mu = np.mean(X, axis=0)\n",
        "    # compute sigma\n",
        "    var = np.cov(X.T)\n",
        "    var=np.diag(var)\n",
        "    \n",
        "    return mu,var"
      ],
      "execution_count": 0,
      "outputs": []
    },
    {
      "cell_type": "code",
      "metadata": {
        "id": "7MlCa42gUyx5",
        "colab_type": "code",
        "colab": {}
      },
      "source": [
        "mu, sigma2 = estimateGaussian(X)"
      ],
      "execution_count": 0,
      "outputs": []
    },
    {
      "cell_type": "markdown",
      "metadata": {
        "id": "lKepqVGNSffv",
        "colab_type": "text"
      },
      "source": [
        "* Multivariate Gaussian Distribution"
      ]
    },
    {
      "cell_type": "code",
      "metadata": {
        "id": "W5QCp76aSUnG",
        "colab_type": "code",
        "colab": {}
      },
      "source": [
        "def multivariateGaussian(X, mu, sigma2):\n",
        "    \"\"\"\n",
        "    Computes the probability density function of the multivariate \n",
        "    gaussian distribution.\n",
        "    \"\"\"\n",
        "    k = len(mu)\n",
        "    \n",
        "    sigma2=np.diag(sigma2)\n",
        "    X = X - mu.T\n",
        "    p = 1/((2*np.pi)**(k/2)*(np.linalg.det(sigma2)**0.5))* np.exp(-0.5* np.sum(X @ np.linalg.pinv(sigma2) * X,axis=1))\n",
        "    return p"
      ],
      "execution_count": 0,
      "outputs": []
    },
    {
      "cell_type": "code",
      "metadata": {
        "id": "vDFtByxkU33e",
        "colab_type": "code",
        "colab": {}
      },
      "source": [
        "p = multivariateGaussian(X, mu, sigma2)"
      ],
      "execution_count": 0,
      "outputs": []
    },
    {
      "cell_type": "markdown",
      "metadata": {
        "id": "hgD8GOnMSybu",
        "colab_type": "text"
      },
      "source": [
        "* Visualize the fit"
      ]
    },
    {
      "cell_type": "code",
      "metadata": {
        "id": "oCyAqIx_SmC9",
        "colab_type": "code",
        "colab": {}
      },
      "source": [
        "plt.figure(figsize=(8,6))\n",
        "plt.scatter(X[:,0],X[:,1],marker=\"x\")\n",
        "X1,X2 = np.meshgrid(np.linspace(0,35,num=70),np.linspace(0,35,num=70))\n",
        "p2 = multivariateGaussian(np.hstack((X1.flatten()[:,np.newaxis],X2.flatten()[:,np.newaxis])), mu, sigma2)\n",
        "contour_level = 10**np.array([np.arange(-20,0,3,dtype=np.float)]).T\n",
        "#plt.contour(X1,X2,p2[:,np.newaxis].reshape(X1.shape),contour_level)\n",
        "plt.xlim(0,35)\n",
        "plt.ylim(0,35)\n",
        "plt.xlabel(\"Latency (ms)\")\n",
        "plt.ylabel(\"Throughput (mb/s)\")"
      ],
      "execution_count": 0,
      "outputs": []
    },
    {
      "cell_type": "markdown",
      "metadata": {
        "id": "uCklwtHzWxpW",
        "colab_type": "text"
      },
      "source": [
        "* Select the thershold"
      ]
    },
    {
      "cell_type": "code",
      "metadata": {
        "id": "P1hxJ6N3S4YJ",
        "colab_type": "code",
        "colab": {}
      },
      "source": [
        "def selectThreshold(yval, pval):\n",
        "    \"\"\"\n",
        "    Find the best threshold (epsilon) to use for selecting outliers\n",
        "    \"\"\"\n",
        "    best_epi = 0\n",
        "    best_F1 = 0\n",
        "    \n",
        "    stepsize = (max(pval) -min(pval))/1000\n",
        "    epi_range = np.arange(pval.min(),pval.max(),stepsize)\n",
        "    for epi in epi_range:\n",
        "        predictions = (pval<epi)[:,np.newaxis]\n",
        "        tp = np.sum(predictions[yval==1]==1)\n",
        "        fp = np.sum(predictions[yval==0]==1)\n",
        "        fn = np.sum(predictions[yval==1]==0)\n",
        "        \n",
        "        # compute precision, recall and F1\n",
        "        prec = tp/(tp+fp)\n",
        "        rec = tp/(tp+fn)\n",
        "        \n",
        "        F1 = (2*prec*rec)/(prec+rec)\n",
        "        \n",
        "        if F1 > best_F1:\n",
        "            best_F1 =F1\n",
        "            best_epi = epi\n",
        "        \n",
        "    return best_epi, best_F1"
      ],
      "execution_count": 0,
      "outputs": []
    },
    {
      "cell_type": "code",
      "metadata": {
        "id": "Sb69dDTiW1wk",
        "colab_type": "code",
        "colab": {}
      },
      "source": [
        "pval = multivariateGaussian(Xval, mu, sigma2)\n",
        "epsilon, F1 = selectThreshold(yval, pval)\n",
        "print(\"Best epsilon found using cross-validation:\",epsilon)\n",
        "print(\"Best F1 on Cross Validation Set:\",F1)"
      ],
      "execution_count": 0,
      "outputs": []
    },
    {
      "cell_type": "markdown",
      "metadata": {
        "id": "5rvFk7PCW9bu",
        "colab_type": "text"
      },
      "source": [
        "* Visualize the anomalies"
      ]
    },
    {
      "cell_type": "code",
      "metadata": {
        "id": "p2qPJBDpW4fS",
        "colab_type": "code",
        "colab": {}
      },
      "source": [
        "plt.figure(figsize=(8,6))\n",
        "\n",
        "# plot the data\n",
        "plt.scatter(X[:,0],X[:,1],marker=\"x\")\n",
        "\n",
        "# potting of contour\n",
        "X1,X2 = np.meshgrid(np.linspace(0,35,num=70),np.linspace(0,35,num=70))\n",
        "p2 = multivariateGaussian(np.hstack((X1.flatten()[:,np.newaxis],X2.flatten()[:,np.newaxis])), mu, sigma2)\n",
        "contour_level = 10**np.array([np.arange(-20,0,3,dtype=np.float)]).T\n",
        "#plt.contour(X1,X2,p2[:,np.newaxis].reshape(X1.shape),contour_level)\n",
        "\n",
        "# Circling of anomalies\n",
        "outliers = np.nonzero(p<epsilon)[0]\n",
        "plt.scatter(X[outliers,0],X[outliers,1],marker =\"o\",facecolor=\"none\",edgecolor=\"r\",s=70)\n",
        "\n",
        "plt.xlim(0,35)\n",
        "plt.ylim(0,35)\n",
        "plt.xlabel(\"Latency (ms)\")\n",
        "plt.ylabel(\"Throughput (mb/s)\")"
      ],
      "execution_count": 0,
      "outputs": []
    }
  ]
}